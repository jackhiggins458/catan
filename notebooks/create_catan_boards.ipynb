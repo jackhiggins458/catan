{
 "cells": [
  {
   "cell_type": "markdown",
   "id": "52d79644-6c94-4d7c-9e61-dd8311554959",
   "metadata": {},
   "source": [
    "# Generate Catan Boards"
   ]
  },
  {
   "cell_type": "markdown",
   "id": "309a638e-52d5-488d-86a9-420e935c62bd",
   "metadata": {},
   "source": [
    "This notebook is used to generate randomised Catan boards."
   ]
  },
  {
   "cell_type": "code",
   "execution_count": 1,
   "id": "e8458f8d-6539-4dd1-838f-20782ab8dd6e",
   "metadata": {},
   "outputs": [],
   "source": [
    "from ipynb.fs.full.hex_grid import *\n",
    "from ipynb.fs.full.draw_catan_board import *\n",
    "from random import sample, seed\n",
    "from statistics import variance\n",
    "import numpy as np\n",
    "import matplotlib.pyplot as plt\n",
    "seed(2025)"
   ]
  },
  {
   "cell_type": "code",
   "execution_count": 11,
   "id": "25074005-53fa-4522-9298-600afa018d9c",
   "metadata": {},
   "outputs": [],
   "source": [
    "# The board state is encoded as three tuples: types, tokens and harbour types.\n",
    "# Each hex in the board is mapped to an index in the list (see hex_index_map below).\n",
    "# Harbour locations aren't stored in the board state because they aren't randomised,\n",
    "# and so it would be redundant to store it millions of times.\n",
    "\n",
    "types = [2,1,5,1,4,1,3,2,3,0,5,2,1,2,4,5,4,3,3]\n",
    "tokens = [5,6,9,11,9,8,2,4,8,0,11,6,3,4,10,5,10,12,3]\n",
    "harbour_types = [0,5,1,0,0,3,2,0,4]\n",
    "harbour_locations = [\n",
    "    (Vertex(-1,3,1),Vertex(-1,2,0)),\n",
    "    (Vertex(-2,2,0),Vertex(-3,3,1)),\n",
    "    (Vertex(-3,2,1),Vertex(-2,0,0)),\n",
    "    (Vertex(-2,0,1),Vertex(-1,-2,0)),\n",
    "    (Vertex(0,-3,0),Vertex(0,-2,1)),\n",
    "    (Vertex(1,-2,1),Vertex(2,-3,0)),\n",
    "    (Vertex(2,-1,1),Vertex(3,-2,0)),\n",
    "    (Vertex(3,-1,0),Vertex(2,1,1)),\n",
    "    (Vertex(1,2,1),Vertex(1,1,0))\n",
    "]"
   ]
  },
  {
   "cell_type": "code",
   "execution_count": 3,
   "id": "2ddbe9ef-a3e5-466d-bf40-cd03f83c9864",
   "metadata": {},
   "outputs": [],
   "source": [
    "def shuffle(x):\n",
    "    # random.shuffle is an in place method, use this instead\n",
    "    return sample(x, len(x))"
   ]
  },
  {
   "cell_type": "code",
   "execution_count": 4,
   "id": "12b651bf-a8e3-433a-86a9-832b28e811c3",
   "metadata": {},
   "outputs": [],
   "source": [
    "def shuffle_types(types: list[int], desert_center=True) -> list[int]:\n",
    "    types = shuffle(types)\n",
    "    if desert_center is True:\n",
    "        desert_index = types.index(0)\n",
    "        # Center token is always placed in the middle of the list\n",
    "        center_index = (len(types)-1)//2\n",
    "        types[desert_index], types[center_index] = types[center_index], types[desert_index]\n",
    "    return types\n",
    "    \n",
    "def shuffle_tokens(tokens: list[int], types: list[int]) -> list[int]:\n",
    "    tokens = shuffle(tokens)\n",
    "    desert_index = types.index(0)\n",
    "    zero_token_index = tokens.index(0)\n",
    "    tokens[desert_index],tokens[zero_token_index] = tokens[zero_token_index],tokens[desert_index]\n",
    "    return tokens\n",
    "        \n",
    "def shuffle_harbours(harbour_types: list[int]) -> list[list]:\n",
    "    return shuffle(harbour_types)\n",
    "\n",
    "def create_random_board(\n",
    "    types: list[int],\n",
    "    tokens: list[int],\n",
    "    harbour_types: list[int],\n",
    "    harbour_locations: list[list[Vertex]]) -> dict:\n",
    "    \n",
    "    board = {\n",
    "    'types': shuffle_types(types),\n",
    "    'tokens': shuffle_tokens(tokens, types),\n",
    "    'harbour_types': shuffle_harbours(harbour_types)#,\n",
    "    #'harbour_locations': harbour_locations\n",
    "    }\n",
    "    return board\n",
    "\n",
    "def create_n_random_boards(\n",
    "    types: list[int],\n",
    "    tokens: list[int],\n",
    "    harbour_types: list[int],\n",
    "    #harbour_locations: list[list[Vertex]],\n",
    "    n: int) -> list:\n",
    "    boards = []\n",
    "    for i in range(n):\n",
    "        board = create_random_board(types, tokens, harbour_types, harbour_locations)\n",
    "        boards.append(board)\n",
    "    return boards"
   ]
  },
  {
   "cell_type": "code",
   "execution_count": 12,
   "id": "68fd1930-2802-4a5e-953c-4d51285b23a0",
   "metadata": {},
   "outputs": [],
   "source": [
    "hex_grid = create_hexagonal_grid(2)\n",
    "vertices = vertex_list(hex_grid)\n",
    "board = create_random_board(types, tokens, harbour_types, harbour_locations)\n",
    "\n",
    "# You can manually define a board like this \n",
    "# board = {\n",
    "#    'types': [4,1,3,4,4,1,2,3,3,0,2,2,2,1,5,5,1,3,5],\n",
    "#    'tokens': [6,10,8,9,5,4,10,3,12,0,6,2,3,9,8,5,11,11,4],\n",
    "#    'harbour_types': [0,0,4,0,0,3,1,5,2]\n",
    "#}"
   ]
  },
  {
   "cell_type": "code",
   "execution_count": 6,
   "id": "35966828-8256-4c6f-bb66-129661692e34",
   "metadata": {},
   "outputs": [],
   "source": [
    "# These computations are relatively expensive.\n",
    "# Instead of performing them over and over across millions of boards,\n",
    "# hash the results instead.\n",
    "hex_index_map = {}\n",
    "for i in range(len(hex_grid)):\n",
    "    hex_index_map[hex_grid[i]] = i\n",
    "\n",
    "hex_neighbours_map = {}\n",
    "for hex_ in hex_grid:\n",
    "    neighbour_candidates = hex_neighbourhood(hex_)\n",
    "    neighbours = []\n",
    "    for n in neighbour_candidates:\n",
    "        if n in hex_grid:\n",
    "            neighbours.append(n)\n",
    "    hex_neighbours_map[hex_] = neighbours\n",
    "\n",
    "harbour_loc_index_map = {}\n",
    "for i in range(len(harbour_locations)):\n",
    "    harbour_loc_index_map[harbour_locations[i]] = i\n",
    "\n",
    "vertex_to_hex_trip_map = {}\n",
    "vertices = vertex_list(hex_grid)\n",
    "for v in vertices:\n",
    "    neighbour_candidates = vertex_to_hexes(v)\n",
    "    neighbours = []\n",
    "    for hex_ in neighbour_candidates:\n",
    "        if hex_ in hex_grid:\n",
    "            neighbours.append(hex_)\n",
    "    vertex_to_hex_trip_map[v] = neighbours"
   ]
  },
  {
   "cell_type": "code",
   "execution_count": 10,
   "id": "8262b2fd-687b-4cf8-b990-61c4f7500937",
   "metadata": {},
   "outputs": [],
   "source": [
    "write_boards = False\n",
    "if __name__ == \"__main__\" and write_boards is True:\n",
    "    n = int(1e7)\n",
    "    file_name = \"../data/boards_1e7.npy\"\n",
    "    boards = create_n_random_boards(types, tokens, harbour_types, n)\n",
    "    np.save(file_name, boards)\n"
   ]
  }
 ],
 "metadata": {
  "kernelspec": {
   "display_name": "Python 3 (ipykernel)",
   "language": "python",
   "name": "python3"
  },
  "language_info": {
   "codemirror_mode": {
    "name": "ipython",
    "version": 3
   },
   "file_extension": ".py",
   "mimetype": "text/x-python",
   "name": "python",
   "nbconvert_exporter": "python",
   "pygments_lexer": "ipython3",
   "version": "3.13.3"
  }
 },
 "nbformat": 4,
 "nbformat_minor": 5
}
